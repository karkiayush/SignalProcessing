{
 "cells": [
  {
   "cell_type": "code",
   "execution_count": 3,
   "metadata": {},
   "outputs": [],
   "source": [
    "import numpy as np\n",
    "import matplotlib.pyplot as plt"
   ]
  },
  {
   "cell_type": "code",
   "execution_count": 4,
   "metadata": {},
   "outputs": [],
   "source": [
    "Am = 1\n",
    "Ac = 1\n",
    "fm = 20\n",
    "fc = 200\n",
    "fs = 1000  # note the fs which is sampling frequency must be greater than or equal to 2 time greater than fc\n",
    "delta_t = 1 / fs  # sampling interval delta_t\n",
    "t = np.arange(0, 1, delta_t)"
   ]
  },
  {
   "cell_type": "code",
   "execution_count": 6,
   "metadata": {},
   "outputs": [],
   "source": [
    "message_signal = Am * np.sin(\n",
    "    2 * np.pi * fm * t\n",
    ")  # Am is the amplitude of message signal and fm is the message signal frequency\n",
    "\n",
    "carrier_signal = Ac * np.sin(2 * np.pi * fc * t)"
   ]
  }
 ],
 "metadata": {
  "kernelspec": {
   "display_name": "base",
   "language": "python",
   "name": "python3"
  },
  "language_info": {
   "codemirror_mode": {
    "name": "ipython",
    "version": 3
   },
   "file_extension": ".py",
   "mimetype": "text/x-python",
   "name": "python",
   "nbconvert_exporter": "python",
   "pygments_lexer": "ipython3",
   "version": "3.11.5"
  }
 },
 "nbformat": 4,
 "nbformat_minor": 2
}
